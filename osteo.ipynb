{
 "cells": [
  {
   "cell_type": "code",
   "execution_count": 2,
   "id": "initial_id",
   "metadata": {
    "collapsed": true,
    "ExecuteTime": {
     "end_time": "2023-10-29T05:09:12.657055Z",
     "start_time": "2023-10-29T05:09:10.132103Z"
    }
   },
   "outputs": [],
   "source": [
    "import os\n",
    "import timeit\n",
    "\n",
    "import matplotlib.pyplot as plt\n",
    "import numpy as np\n",
    "import seaborn as sns\n",
    "import tensorflow as tf\n",
    "from sklearn.metrics import (accuracy_score, balanced_accuracy_score,\n",
    "                             classification_report, confusion_matrix)\n",
    "from sklearn.utils.class_weight import compute_class_weight\n",
    "from tensorflow.keras.preprocessing.image import ImageDataGenerator\n",
    "from tensorflow.keras.models import Sequential\n",
    "from tensorflow.keras.layers import Conv2D, MaxPooling2D\n",
    "from tensorflow.keras.layers import Activation, Dropout, Flatten, Dense\n",
    "from tensorflow.keras.optimizers import Adam"
   ]
  },
  {
   "cell_type": "code",
   "execution_count": 3,
   "outputs": [],
   "source": [
    "import os\n",
    "base_dir = \"/Users/adii/Downloads/archive\"\n",
    "train_path = os.path.join(base_dir, 'train')\n",
    "valid_path = os.path.join(base_dir, 'val')\n",
    "test_path = os.path.join(base_dir, 'test')\n"
   ],
   "metadata": {
    "collapsed": false,
    "ExecuteTime": {
     "end_time": "2023-10-29T05:09:12.662094Z",
     "start_time": "2023-10-29T05:09:12.658235Z"
    }
   },
   "id": "8fd896b27d887609"
  },
  {
   "cell_type": "code",
   "execution_count": 4,
   "outputs": [],
   "source": [
    "model_name = \"LeNet-5\"\n",
    "class_names = ['Healthy', 'Doubtful', 'Minimal', 'Moderate', 'Severe']\n",
    "\n",
    "target_size = (224, 224)\n",
    "epochs = 100\n",
    "batch_size = 256\n",
    "img_shape = (224, 224, 1)"
   ],
   "metadata": {
    "collapsed": false,
    "ExecuteTime": {
     "end_time": "2023-10-29T05:09:12.666423Z",
     "start_time": "2023-10-29T05:09:12.661212Z"
    }
   },
   "id": "8b0431e2f88ea4a3"
  },
  {
   "cell_type": "markdown",
   "source": [
    "Augmentation and Normalization"
   ],
   "metadata": {
    "collapsed": false
   },
   "id": "aeed87903eaad6ce"
  },
  {
   "cell_type": "code",
   "execution_count": 5,
   "outputs": [],
   "source": [
    "aug_datagen = tf.keras.preprocessing.image.ImageDataGenerator(\n",
    "    preprocessing_function=tf.keras.applications.xception.preprocess_input,\n",
    "    horizontal_flip=True,\n",
    "    brightness_range=[0.3, 0.8],\n",
    "    width_shift_range=[-50, 0, 50, 30, -30],\n",
    "    zoom_range=0.1,\n",
    "    fill_mode=\"nearest\",\n",
    ")\n",
    "\n",
    "noaug_datagen = tf.keras.preprocessing.image.ImageDataGenerator(\n",
    "    preprocessing_function=tf.keras.applications.xception.preprocess_input,\n",
    ")"
   ],
   "metadata": {
    "collapsed": false,
    "ExecuteTime": {
     "end_time": "2023-10-29T05:09:12.666630Z",
     "start_time": "2023-10-29T05:09:12.664388Z"
    }
   },
   "id": "f3c3d74ea4ccc5d0"
  },
  {
   "cell_type": "code",
   "execution_count": 6,
   "outputs": [
    {
     "name": "stdout",
     "output_type": "stream",
     "text": [
      "Found 5778 images belonging to 5 classes.\n",
      "Found 1656 images belonging to 5 classes.\n",
      "Found 826 images belonging to 5 classes.\n"
     ]
    }
   ],
   "source": [
    "train_generator = aug_datagen.flow_from_directory(\n",
    "    train_path, class_mode=\"categorical\", target_size=target_size, color_mode=\"grayscale\", shuffle=True\n",
    ")\n",
    "\n",
    "test_generator = noaug_datagen.flow_from_directory(\n",
    "    test_path, class_mode=\"categorical\", target_size=target_size, color_mode=\"grayscale\", shuffle=False,\n",
    ")\n",
    "\n",
    "valid_generator = noaug_datagen.flow_from_directory(\n",
    "    valid_path, class_mode=\"categorical\", target_size=target_size, color_mode=\"grayscale\", shuffle=False,\n",
    ")\n"
   ],
   "metadata": {
    "collapsed": false,
    "ExecuteTime": {
     "end_time": "2023-10-29T05:09:12.801735Z",
     "start_time": "2023-10-29T05:09:12.668022Z"
    }
   },
   "id": "30644b96482db658"
  },
  {
   "cell_type": "code",
   "execution_count": 7,
   "outputs": [],
   "source": [
    "y_train = train_generator.labels\n",
    "y_val = valid_generator.labels\n",
    "y_test = test_generator.labels"
   ],
   "metadata": {
    "collapsed": false,
    "ExecuteTime": {
     "end_time": "2023-10-29T05:09:12.822268Z",
     "start_time": "2023-10-29T05:09:12.801346Z"
    }
   },
   "id": "bab89d01bd869fd9"
  },
  {
   "cell_type": "code",
   "execution_count": 8,
   "outputs": [
    {
     "name": "stdout",
     "output_type": "stream",
     "text": [
      "Model: \"sequential\"\n",
      "_________________________________________________________________\n",
      " Layer (type)                Output Shape              Param #   \n",
      "=================================================================\n",
      " conv2d (Conv2D)             (None, 220, 220, 6)       156       \n",
      "                                                                 \n",
      " max_pooling2d (MaxPooling2D  (None, 110, 110, 6)      0         \n",
      " )                                                               \n",
      "                                                                 \n",
      " conv2d_1 (Conv2D)           (None, 106, 106, 16)      2416      \n",
      "                                                                 \n",
      " max_pooling2d_1 (MaxPooling  (None, 53, 53, 16)       0         \n",
      " 2D)                                                             \n",
      "                                                                 \n",
      " flatten (Flatten)           (None, 44944)             0         \n",
      "                                                                 \n",
      " dense (Dense)               (None, 120)               5393400   \n",
      "                                                                 \n",
      " dense_1 (Dense)             (None, 84)                10164     \n",
      "                                                                 \n",
      " dense_2 (Dense)             (None, 5)                 425       \n",
      "                                                                 \n",
      "=================================================================\n",
      "Total params: 5,406,561\n",
      "Trainable params: 5,406,561\n",
      "Non-trainable params: 0\n",
      "_________________________________________________________________\n"
     ]
    }
   ],
   "source": [
    "model = Sequential()\n",
    "model.add(Conv2D(6, kernel_size=(5, 5), activation='relu', input_shape=(224, 224, 1)))\n",
    "model.add(MaxPooling2D(pool_size=(2, 2)))\n",
    "model.add(Conv2D(16, kernel_size=(5, 5), activation='relu'))\n",
    "model.add(MaxPooling2D(pool_size=(2, 2)))\n",
    "model.add(Flatten())\n",
    "model.add(Dense(120, activation='relu'))\n",
    "model.add(Dense(84, activation='relu'))\n",
    "model.add(Dense(5, activation='softmax'))\n",
    "model.compile(loss='categorical_crossentropy', optimizer='adam', metrics=['accuracy'])\n",
    "model.summary()"
   ],
   "metadata": {
    "collapsed": false,
    "ExecuteTime": {
     "end_time": "2023-10-29T05:09:12.893545Z",
     "start_time": "2023-10-29T05:09:12.807046Z"
    }
   },
   "id": "b1d75554196a89c0"
  },
  {
   "cell_type": "code",
   "execution_count": 9,
   "outputs": [
    {
     "name": "stdout",
     "output_type": "stream",
     "text": [
      "Epoch 1/50\n"
     ]
    },
    {
     "name": "stderr",
     "output_type": "stream",
     "text": [
      "2023-10-29 10:39:13.008186: I tensorflow/core/common_runtime/executor.cc:1197] [/device:CPU:0] (DEBUG INFO) Executor start aborting (this does not indicate an error and you can ignore this message): INVALID_ARGUMENT: You must feed a value for placeholder tensor 'Placeholder/_0' with dtype int32\n",
      "\t [[{{node Placeholder/_0}}]]\n",
      "2023-10-29 10:39:13.032241: W tensorflow/tsl/platform/profile_utils/cpu_utils.cc:128] Failed to get CPU frequency: 0 Hz\n"
     ]
    },
    {
     "name": "stdout",
     "output_type": "stream",
     "text": [
      "181/181 [==============================] - ETA: 0s - loss: 1.4295 - accuracy: 0.3903"
     ]
    },
    {
     "name": "stderr",
     "output_type": "stream",
     "text": [
      "2023-10-29 10:39:48.709193: I tensorflow/core/common_runtime/executor.cc:1197] [/device:CPU:0] (DEBUG INFO) Executor start aborting (this does not indicate an error and you can ignore this message): INVALID_ARGUMENT: You must feed a value for placeholder tensor 'Placeholder/_0' with dtype int32\n",
      "\t [[{{node Placeholder/_0}}]]\n"
     ]
    },
    {
     "name": "stdout",
     "output_type": "stream",
     "text": [
      "181/181 [==============================] - 37s 204ms/step - loss: 1.4295 - accuracy: 0.3903 - val_loss: 1.6247 - val_accuracy: 0.3995\n",
      "Epoch 2/50\n",
      "181/181 [==============================] - 36s 198ms/step - loss: 1.4062 - accuracy: 0.3958 - val_loss: 1.4497 - val_accuracy: 0.3971\n",
      "Epoch 3/50\n",
      "181/181 [==============================] - 35s 193ms/step - loss: 1.4039 - accuracy: 0.3932 - val_loss: 1.4248 - val_accuracy: 0.3571\n",
      "Epoch 4/50\n",
      "181/181 [==============================] - 36s 199ms/step - loss: 1.4015 - accuracy: 0.3967 - val_loss: 1.4453 - val_accuracy: 0.3959\n",
      "Epoch 5/50\n",
      "181/181 [==============================] - 37s 202ms/step - loss: 1.3976 - accuracy: 0.3994 - val_loss: 1.4370 - val_accuracy: 0.3317\n",
      "Epoch 6/50\n",
      "181/181 [==============================] - 35s 195ms/step - loss: 1.3968 - accuracy: 0.3979 - val_loss: 1.4275 - val_accuracy: 0.3777\n",
      "Epoch 7/50\n",
      "181/181 [==============================] - 37s 203ms/step - loss: 1.3958 - accuracy: 0.3969 - val_loss: 1.4629 - val_accuracy: 0.3305\n",
      "Epoch 8/50\n",
      "181/181 [==============================] - 35s 193ms/step - loss: 1.3830 - accuracy: 0.4024 - val_loss: 1.4539 - val_accuracy: 0.2954\n",
      "Epoch 9/50\n",
      "181/181 [==============================] - 36s 196ms/step - loss: 1.3857 - accuracy: 0.3993 - val_loss: 1.4161 - val_accuracy: 0.3814\n",
      "Epoch 10/50\n",
      "181/181 [==============================] - 35s 192ms/step - loss: 1.3763 - accuracy: 0.4052 - val_loss: 1.4640 - val_accuracy: 0.3354\n",
      "Epoch 11/50\n",
      "181/181 [==============================] - 35s 192ms/step - loss: 1.3600 - accuracy: 0.4152 - val_loss: 1.3594 - val_accuracy: 0.4189\n",
      "Epoch 12/50\n",
      "181/181 [==============================] - 35s 193ms/step - loss: 1.3493 - accuracy: 0.4097 - val_loss: 1.3812 - val_accuracy: 0.4201\n",
      "Epoch 13/50\n",
      "181/181 [==============================] - 35s 195ms/step - loss: 1.3218 - accuracy: 0.4330 - val_loss: 1.4070 - val_accuracy: 0.4153\n",
      "Epoch 14/50\n",
      "181/181 [==============================] - 35s 193ms/step - loss: 1.3051 - accuracy: 0.4346 - val_loss: 1.3019 - val_accuracy: 0.4358\n",
      "Epoch 15/50\n",
      "181/181 [==============================] - 35s 194ms/step - loss: 1.2954 - accuracy: 0.4372 - val_loss: 1.2865 - val_accuracy: 0.4649\n",
      "Epoch 16/50\n",
      "181/181 [==============================] - 36s 196ms/step - loss: 1.2866 - accuracy: 0.4384 - val_loss: 1.3070 - val_accuracy: 0.4455\n",
      "Epoch 17/50\n",
      "181/181 [==============================] - 37s 206ms/step - loss: 1.2580 - accuracy: 0.4573 - val_loss: 1.2598 - val_accuracy: 0.4419\n",
      "Epoch 18/50\n",
      "181/181 [==============================] - 35s 193ms/step - loss: 1.2215 - accuracy: 0.4747 - val_loss: 1.1992 - val_accuracy: 0.4625\n",
      "Epoch 19/50\n",
      "181/181 [==============================] - 36s 197ms/step - loss: 1.2116 - accuracy: 0.4761 - val_loss: 1.1957 - val_accuracy: 0.4939\n",
      "Epoch 20/50\n",
      "181/181 [==============================] - 36s 197ms/step - loss: 1.1981 - accuracy: 0.4830 - val_loss: 1.1876 - val_accuracy: 0.4903\n",
      "Epoch 21/50\n",
      "181/181 [==============================] - 35s 192ms/step - loss: 1.1940 - accuracy: 0.4851 - val_loss: 1.4984 - val_accuracy: 0.3559\n",
      "Epoch 22/50\n",
      "181/181 [==============================] - 35s 190ms/step - loss: 1.1715 - accuracy: 0.4938 - val_loss: 1.1668 - val_accuracy: 0.5024\n",
      "Epoch 23/50\n",
      "181/181 [==============================] - 35s 195ms/step - loss: 1.1630 - accuracy: 0.4997 - val_loss: 1.1307 - val_accuracy: 0.5024\n",
      "Epoch 24/50\n",
      "181/181 [==============================] - 35s 195ms/step - loss: 1.1500 - accuracy: 0.5092 - val_loss: 1.1652 - val_accuracy: 0.5048\n",
      "Epoch 25/50\n",
      "181/181 [==============================] - 35s 191ms/step - loss: 1.1472 - accuracy: 0.5144 - val_loss: 1.2413 - val_accuracy: 0.4915\n",
      "Epoch 26/50\n",
      "181/181 [==============================] - 34s 188ms/step - loss: 1.1404 - accuracy: 0.5092 - val_loss: 1.1646 - val_accuracy: 0.4988\n",
      "Epoch 27/50\n",
      "181/181 [==============================] - 35s 192ms/step - loss: 1.1338 - accuracy: 0.5135 - val_loss: 1.2539 - val_accuracy: 0.4431\n",
      "Epoch 28/50\n",
      "181/181 [==============================] - 35s 194ms/step - loss: 1.1208 - accuracy: 0.5132 - val_loss: 1.2237 - val_accuracy: 0.4915\n",
      "Epoch 29/50\n",
      "181/181 [==============================] - 36s 198ms/step - loss: 1.1146 - accuracy: 0.5227 - val_loss: 1.6139 - val_accuracy: 0.3765\n",
      "Epoch 30/50\n",
      "181/181 [==============================] - 35s 191ms/step - loss: 1.1161 - accuracy: 0.5175 - val_loss: 1.1262 - val_accuracy: 0.5266\n",
      "Epoch 31/50\n",
      "181/181 [==============================] - 35s 190ms/step - loss: 1.0970 - accuracy: 0.5258 - val_loss: 1.4103 - val_accuracy: 0.4431\n",
      "Epoch 32/50\n",
      "181/181 [==============================] - 34s 190ms/step - loss: 1.0928 - accuracy: 0.5303 - val_loss: 1.1634 - val_accuracy: 0.5254\n",
      "Epoch 33/50\n",
      "181/181 [==============================] - 35s 192ms/step - loss: 1.0961 - accuracy: 0.5263 - val_loss: 1.1391 - val_accuracy: 0.5242\n",
      "Epoch 34/50\n",
      "181/181 [==============================] - 35s 193ms/step - loss: 1.0812 - accuracy: 0.5298 - val_loss: 1.1862 - val_accuracy: 0.5048\n",
      "Epoch 35/50\n",
      "181/181 [==============================] - 35s 194ms/step - loss: 1.0731 - accuracy: 0.5393 - val_loss: 1.3655 - val_accuracy: 0.4504\n",
      "Epoch 36/50\n",
      "181/181 [==============================] - 36s 198ms/step - loss: 1.0850 - accuracy: 0.5317 - val_loss: 1.1891 - val_accuracy: 0.5254\n",
      "Epoch 37/50\n",
      "181/181 [==============================] - 36s 199ms/step - loss: 1.0693 - accuracy: 0.5367 - val_loss: 1.1555 - val_accuracy: 0.5133\n",
      "Epoch 38/50\n",
      "181/181 [==============================] - 35s 195ms/step - loss: 1.0553 - accuracy: 0.5466 - val_loss: 1.1580 - val_accuracy: 0.5157\n",
      "Epoch 39/50\n",
      "181/181 [==============================] - 35s 191ms/step - loss: 1.0751 - accuracy: 0.5306 - val_loss: 1.3618 - val_accuracy: 0.4249\n",
      "Epoch 40/50\n",
      "181/181 [==============================] - 36s 197ms/step - loss: 1.0622 - accuracy: 0.5471 - val_loss: 1.1788 - val_accuracy: 0.5109\n",
      "Epoch 41/50\n",
      "181/181 [==============================] - 36s 201ms/step - loss: 1.0690 - accuracy: 0.5389 - val_loss: 1.1586 - val_accuracy: 0.5073\n",
      "Epoch 42/50\n",
      "181/181 [==============================] - 37s 203ms/step - loss: 1.0433 - accuracy: 0.5543 - val_loss: 1.1778 - val_accuracy: 0.5194\n",
      "Epoch 43/50\n",
      "181/181 [==============================] - 37s 204ms/step - loss: 1.0387 - accuracy: 0.5511 - val_loss: 1.1605 - val_accuracy: 0.5073\n",
      "Epoch 44/50\n",
      "181/181 [==============================] - 36s 201ms/step - loss: 1.0530 - accuracy: 0.5524 - val_loss: 1.2193 - val_accuracy: 0.5048\n",
      "Epoch 45/50\n",
      "181/181 [==============================] - 35s 193ms/step - loss: 1.0275 - accuracy: 0.5639 - val_loss: 1.1449 - val_accuracy: 0.5303\n",
      "Epoch 46/50\n",
      "181/181 [==============================] - 38s 211ms/step - loss: 1.0483 - accuracy: 0.5457 - val_loss: 1.1390 - val_accuracy: 0.5363\n",
      "Epoch 47/50\n",
      "181/181 [==============================] - 64s 350ms/step - loss: 1.0405 - accuracy: 0.5543 - val_loss: 1.2446 - val_accuracy: 0.5061\n",
      "Epoch 48/50\n",
      "181/181 [==============================] - 62s 344ms/step - loss: 1.0388 - accuracy: 0.5566 - val_loss: 1.1637 - val_accuracy: 0.5387\n",
      "Epoch 49/50\n",
      "181/181 [==============================] - 63s 348ms/step - loss: 1.0361 - accuracy: 0.5549 - val_loss: 1.2618 - val_accuracy: 0.4867\n",
      "Epoch 50/50\n",
      "181/181 [==============================] - 62s 340ms/step - loss: 1.0343 - accuracy: 0.5497 - val_loss: 1.2585 - val_accuracy: 0.4782\n"
     ]
    }
   ],
   "source": [
    "history = model.fit(train_generator, validation_data=valid_generator, epochs = 50)"
   ],
   "metadata": {
    "collapsed": false,
    "ExecuteTime": {
     "end_time": "2023-10-29T05:40:37.784646Z",
     "start_time": "2023-10-29T05:09:12.896892Z"
    }
   },
   "id": "370d35d8bbab764d"
  },
  {
   "cell_type": "code",
   "execution_count": 10,
   "outputs": [
    {
     "name": "stdout",
     "output_type": "stream",
     "text": [
      "Found 1656 images belonging to 5 classes.\n",
      " 1/52 [..............................] - ETA: 7s - loss: 0.8144 - accuracy: 0.6562"
     ]
    },
    {
     "name": "stderr",
     "output_type": "stream",
     "text": [
      "2023-10-29 11:10:37.840773: I tensorflow/core/common_runtime/executor.cc:1197] [/device:CPU:0] (DEBUG INFO) Executor start aborting (this does not indicate an error and you can ignore this message): INVALID_ARGUMENT: You must feed a value for placeholder tensor 'Placeholder/_0' with dtype int32\n",
      "\t [[{{node Placeholder/_0}}]]\n"
     ]
    },
    {
     "name": "stdout",
     "output_type": "stream",
     "text": [
      "52/52 [==============================] - 6s 113ms/step - loss: 1.1577 - accuracy: 0.5326\n",
      "Test Loss: 1.1577379703521729\n",
      "Test Accuracy: 0.532608687877655\n"
     ]
    }
   ],
   "source": [
    "test_generator = noaug_datagen.flow_from_directory(\n",
    "    test_path,\n",
    "    class_mode=\"categorical\",\n",
    "    target_size=target_size,\n",
    "    color_mode=\"grayscale\",\n",
    "    shuffle=False,\n",
    ")\n",
    "\n",
    "test_loss, test_accuracy = model.evaluate(test_generator)\n",
    "print(f'Test Loss: {test_loss}')\n",
    "print(f'Test Accuracy: {test_accuracy}')\n"
   ],
   "metadata": {
    "collapsed": false,
    "ExecuteTime": {
     "end_time": "2023-10-29T05:40:43.762045Z",
     "start_time": "2023-10-29T05:40:37.781789Z"
    }
   },
   "id": "1b3e531d2a6294d3"
  }
 ],
 "metadata": {
  "kernelspec": {
   "display_name": "Python 3",
   "language": "python",
   "name": "python3"
  },
  "language_info": {
   "codemirror_mode": {
    "name": "ipython",
    "version": 2
   },
   "file_extension": ".py",
   "mimetype": "text/x-python",
   "name": "python",
   "nbconvert_exporter": "python",
   "pygments_lexer": "ipython2",
   "version": "2.7.6"
  }
 },
 "nbformat": 4,
 "nbformat_minor": 5
}
